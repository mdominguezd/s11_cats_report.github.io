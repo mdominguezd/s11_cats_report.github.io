{
  "cells": [
    {
      "cell_type": "markdown",
      "metadata": {},
      "source": [
        "## Baseline scenario\n",
        "\n",
        "### Current workflow\n",
        "\n",
        "The main finding of the interviews were the steps followed currently to discover, retrieve and visualize data. These steps are summarized on @fig-baseline and show how complex and time consuming the process of discovering and visualizing spatial data can be for a Satelligence employee nowadays. Moreover, the steps followed were categorized in four classes depending on how much time is generally spent carrying out.\n",
        "\n",
        "![Baseline workflow](img/Baseline_data_discovery_workflow.png){#fig-baseline width=\"100%\"}\n",
        "\n",
        "### Thematic Content Analysis\n",
        "\n",
        "When asked about the recurrent patterns on the interviews undertaken to define the baseline scenario, ChatGPT found four main topics:\n",
        "\n",
        "- There is a high uncertainty on the location of datasets and a high dependency on colleagues to find them.\n",
        "- Multiple sources and locations of data.\n",
        "- Data familiarity helps users locate data quicker.\n",
        "- Use of specific tools and methods for different datasets.\n",
        "\n",
        "After some refinement and a deeper analysis of the interviews, the major pitfalls found on the process of data discovery in the company were summarized as follows:\n",
        "\n",
        "-   High dependency on colleagues.\n",
        "-   Disorganized structure of Google Storage Buckets.\n",
        "-   Data familiarity helps users locate data quicker.\n",
        "-   Data location is dependent on recurrent work with a specific dataset.\n",
        "-   Not intuitive naming of repositories (e.g. Blockchain for supply chain data, internet for compliance data, etc.).\n",
        "-   Not one place where all existing data can be found.\n",
        "\n",
        "All of these pitfalls underscore the need of going towards a Spatial Knowledge Infrastructure, that is able to provide datasets based on questions like the ones on the questionnaire. \n",
        "\n",
        "## Service integration\n",
        "\n",
        "esults this is the deployment and it connects with these other services. \n",
        "\n",
        "### Data discovery application\n",
        "\n",
        "results: this is the deployment and it connects with these other services. \n",
        "\n",
        "The web application can be accessed in [eoapi.satelligence.com/browser](https://eoapi.satelligence.com/browser/?.language=en). \n",
        "\n",
        "#### Data discovery improvement\n",
        "\n",
        "Flowchart with STAC\n",
        "\n",
        "### Data visualization\n",
        "\n",
        "## Performance of multi-format data visualization\n",
        "\n",
        "### Raster formats\n"
      ],
      "id": "6d53225c"
    },
    {
      "cell_type": "code",
      "metadata": {},
      "source": [
        "#| echo: false\n",
        "\n",
        "import pandas as pd\n",
        "\n",
        "data = pd.read_csv('sections/request_time_results_6iter_k8.csv')\n",
        "\n",
        "speed_up = float(round(data['ZARR'].mean()/data['COG'].mean(), 2))"
      ],
      "id": "05775650",
      "execution_count": null,
      "outputs": []
    },
    {
      "cell_type": "markdown",
      "metadata": {},
      "source": [
        "The comparison of visualization speeds with TiTiler-xarray for Zarr datasets and TiTiler-PgSTAC for COGs are presented on @fig-format-comp. In the figure it can be obesrved that COG tiles are requested `{python} speed_up` times faster than the same file in ZARR format.\n"
      ],
      "id": "ea6a7a46"
    },
    {
      "cell_type": "code",
      "metadata": {},
      "source": [
        "#| echo: false\n",
        "#| fig-cap: Request times depending on data format and zoom level\n",
        "#| label: fig-format-comp\n",
        "\n",
        "import seaborn as sns\n",
        "import matplotlib.pyplot as plt\n",
        "from matplotlib.colors import LinearSegmentedColormap\n",
        "\n",
        "s11_cmap = LinearSegmentedColormap.from_list('s11', ['#96d7fa', '#ff4100'])\n",
        "background_color = '#180066'\n",
        "text_color = 'white'\n",
        "\n",
        "sns.set(rc={'axes.facecolor' : 'white',\n",
        "    'grid.color' : 'lightgray',\n",
        "    'text.color' : background_color,\n",
        "    'axes.labelcolor' : background_color,\n",
        "    'xtick.color': background_color,\n",
        "    'ytick.color': background_color,})\n",
        "\n",
        "fig, ax = plt.subplots(1,1,figsize= (7.5,5))\n",
        "\n",
        "sns.boxplot(data[['COG', 'ZARR']], palette = {'COG':s11_cmap(0), 'ZARR':s11_cmap(255)}, ax = ax, linecolor=background_color)\n",
        "# sns.despine(trim = True, offset = -10, ax = ax)\n",
        "\n",
        "ax.set_ylabel('Request time [s]')\n",
        "a = ax.set_xlabel('Data format')"
      ],
      "id": "fig-format-comp",
      "execution_count": null,
      "outputs": []
    },
    {
      "cell_type": "markdown",
      "metadata": {},
      "source": [
        "### Effects of zoom level\n"
      ],
      "id": "5a434142"
    },
    {
      "cell_type": "code",
      "metadata": {},
      "source": [
        "#| echo: false\n",
        "\n",
        "import statsmodels.api as sm\n",
        "data = pd.read_csv('sections/request_time_results_6iter_k8.csv')\n",
        "\n",
        "\n",
        "fit_results = sm.OLS(data['COG'], sm.add_constant(data['zoom level'])).fit()\n",
        "cog_slope = float(round(fit_results.params['zoom level'], 3))\n",
        "\n",
        "fit_results = sm.OLS(data['ZARR'], sm.add_constant(data['zoom level'])).fit()\n",
        "zarr_slope = float(round(fit_results.params['zoom level'], 3))"
      ],
      "id": "fbc4d8ae",
      "execution_count": null,
      "outputs": []
    },
    {
      "cell_type": "markdown",
      "metadata": {},
      "source": [
        "As seen on @fig-comp-zoom, the zoom level of the map will have an effect on the time spent requesting and getting a tile from a tile server. In this study, it was found that the request times decreased by a factor of `{python} cog_slope` and `{python} zarr_slope` per zoom level for COGs and ZARRs respectively.\n"
      ],
      "id": "4d89de0c"
    },
    {
      "cell_type": "code",
      "metadata": {},
      "source": [
        "#| echo: false\n",
        "#| fig-cap: Request times depending on zoom level\n",
        "#| label: fig-comp-zoom\n",
        "fig, ax = plt.subplots(1,1,figsize= (7.5,5))\n",
        "\n",
        "sns.regplot(data, x = 'zoom level', y = 'COG', ax = ax, color=s11_cmap(0), ci = 95, label='COG')\n",
        "sns.regplot(data, x = 'zoom level', y = 'ZARR', ax = ax, color=s11_cmap(255), ci = 95, label= 'ZARR')\n",
        "ax.set_ylabel('Request time [s]')\n",
        "\n",
        "a = plt.legend()\n",
        "# a= sns.despine(trim = True, offset = -10, ax = ax)"
      ],
      "id": "fig-comp-zoom",
      "execution_count": null,
      "outputs": []
    }
  ],
  "metadata": {
    "kernelspec": {
      "name": "python3",
      "language": "python",
      "display_name": "Python 3 (ipykernel)"
    }
  },
  "nbformat": 4,
  "nbformat_minor": 5
}